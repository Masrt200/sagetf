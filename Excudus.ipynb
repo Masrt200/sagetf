{
 "cells": [
  {
   "cell_type": "code",
   "execution_count": 229,
   "metadata": {},
   "outputs": [],
   "source": [
    "#seq=\"GGGAAAUCC\"\n",
    "seq=\"CGAGUCGGAGUC\"\n",
    "#seq=\"AAUCUGUUACGCA\"\n",
    "pairs=[(\"A\",\"U\"),(\"U\",\"A\"),(\"G\",\"C\"),(\"C\",\"G\"),(\"G\",\"U\"),(\"U\",\"G\")]"
   ]
  },
  {
   "cell_type": "code",
   "execution_count": 236,
   "metadata": {},
   "outputs": [],
   "source": [
    "import numpy as np\n",
    "V=np.full((len(seq),len(seq)), -1)\n",
    "for i in range(len(seq)):\n",
    "    for j in range(len(seq)):\n",
    "        if i==j: V[i][j]=0\n",
    "        if j+1==i: V[i][j]=0\n",
    "def solve(i,j):\n",
    "    global V\n",
    "    if i==len(seq) or j==len(seq) or i<0 or j<0: return 0;\n",
    "    if V[i][j]!=-1: return V[i][j]\n",
    "    \n",
    "    \n",
    "    x=solve(i+1,j-1)+((seq[i],seq[j]) in pairs)\n",
    "    y=solve(i+1,j)\n",
    "    z=solve(i,j-1)\n",
    "    w=0\n",
    "    for k in range(i+1,j):\n",
    "        w=max(solve(i,k)+solve(k+1,j),w)\n",
    "    V[i][j]=max(x,y,w,z)\n",
    "\n",
    "    return V[i][j]\n",
    "    \n",
    "    "
   ]
  },
  {
   "cell_type": "code",
   "execution_count": 237,
   "metadata": {},
   "outputs": [
    {
     "data": {
      "text/plain": [
       "5"
      ]
     },
     "execution_count": 237,
     "metadata": {},
     "output_type": "execute_result"
    }
   ],
   "source": [
    "solve(0,len(seq)-1)"
   ]
  },
  {
   "cell_type": "code",
   "execution_count": 238,
   "metadata": {},
   "outputs": [
    {
     "data": {
      "text/plain": [
       "array([[ 0,  1,  1,  1,  2,  2,  3,  3,  3,  3,  4,  5],\n",
       "       [ 0,  0,  0,  0,  1,  2,  2,  2,  2,  2,  3,  4],\n",
       "       [-1,  0,  0,  0,  1,  1,  2,  2,  2,  2,  3,  4],\n",
       "       [-1, -1,  0,  0,  1,  1,  2,  2,  2,  2,  3,  4],\n",
       "       [-1, -1, -1,  0,  0,  0,  1,  2,  2,  2,  3,  3],\n",
       "       [-1, -1, -1, -1,  0,  0,  1,  1,  1,  1,  2,  3],\n",
       "       [-1, -1, -1, -1, -1,  0,  0,  0,  0,  0,  1,  2],\n",
       "       [-1, -1, -1, -1, -1, -1,  0,  0,  0,  0,  1,  2],\n",
       "       [-1, -1, -1, -1, -1, -1, -1,  0,  0,  0,  1,  1],\n",
       "       [-1, -1, -1, -1, -1, -1, -1, -1,  0,  0,  1,  1],\n",
       "       [-1, -1, -1, -1, -1, -1, -1, -1, -1,  0,  0,  0],\n",
       "       [-1, -1, -1, -1, -1, -1, -1, -1, -1, -1,  0,  0]])"
      ]
     },
     "execution_count": 238,
     "metadata": {},
     "output_type": "execute_result"
    }
   ],
   "source": [
    "V"
   ]
  },
  {
   "cell_type": "code",
   "execution_count": 5,
   "metadata": {},
   "outputs": [],
   "source": [
    "import requests\n",
    "import re"
   ]
  },
  {
   "cell_type": "code",
   "execution_count": 33,
   "metadata": {},
   "outputs": [],
   "source": [
    "url=\"https://blogmflix.xyz/archives/\"\n",
    "basen=3446\n",
    "regex=r'href=[\\'\"]?([^\\'\" >]+)'"
   ]
  },
  {
   "cell_type": "code",
   "execution_count": null,
   "metadata": {},
   "outputs": [
    {
     "name": "stdout",
     "output_type": "stream",
     "text": [
      "https://store4.gofile.io/download/1c05d85e-2096-4f9d-a67c-6d33a4591932/Dr.Dolittle.Tail.to.the.Chief.2008.480p.WEB-HD.x264.\n",
      "https://store4.gofile.io/download/38ed8538-4fa7-4cf5-9b00-79ec7fad7393/The.Thomas.Crown.Affair.1999.720p.BluRay.x264.999MB-Themovisflix.com.co.mkv\n",
      "https://store4.gofile.io/download/481a8b74-6eac-4df8-ac19-057e00d7f59e/The.Thomas.Crown.Affair.1999.480p.BluRay.x264.999MB-Themovisflix.com.co.mkv\n",
      "https://store4.gofile.io/download/254e731f-53f1-4dc1-90d7-5c0b98c2551c/Young.Frankenstein.1974.720p.BluRay.x264.400MB.Themovisflix.com.co.mkv\n",
      "https://store4.gofile.io/download/27a9267b-56dd-4d97-97c6-f6888b495bd0/Young.Frankenstein.1974.480p.BluRay.x264.400MB.Themovisflix.com.co.mkv\n",
      "https://store2.gofile.io/download/ca59582f-0742-41e4-8be7-79ec5a043379/The.Lighthouse.2019.1080p.BluRay.Hindi-English.x264.DD5.1-Themoviesflix.com.co.mkv\n",
      "https://store2.gofile.io/download/927a621a-56b1-4f4e-ab91-15c0e9e04cba/The.Lighthouse.2019.720p.HEVCBluRay.Hindi-English.x264.DD5.1-Themoviesflix.com.co.mkvl\n",
      "https://store2.gofile.io/download/052ca798-c242-42e6-90f1-e8daecc84ac1/The.Lighthouse.2019.720p.BluRay.Hindi-English.x264.DD5.1-Themoviesflix.com.co.mkv\n",
      "https://store2.gofile.io/download/954cfdb3-a35a-4cd3-910d-1e0d0a7acbde/The.Lighthouse.2019.480p.BluRay.Hindi-English.x264.DD5.1-Themoviesflix.com.co.mkv\n",
      "https://store9.gofile.io/download/6c50a7b5-e1fd-40a4-976a-dfb3f86a1661/Bloodthirsty\n",
      "https://store9.gofile.io/download/c6c4f2d9-ee07-40f1-bd10-0c1de7145684/Bloodthirsty\n",
      "https://store9.gofile.io/download/78868411-0931-4067-b93b-247fbe20964f/Born\n",
      "https://store9.gofile.io/download/0368e449-bc09-4c16-a334-5a9dbe9a2aca/Born\n",
      "https://store9.gofile.io/download/1fe6f812-6cf0-41b8-af52-42d568df93fe/Spree.2020.480p.TheMoviesflix.com.co.mkv\n",
      "https://store9.gofile.io/download/ee6690a8-e010-4a87-b4d6-fd41577ca456/Spree.2020.720p.TheMoviesflix.com.co.mkv\n",
      "https://store9.gofile.io/download/c5fd0736-d23b-4983-aeec-0da6e8b9247e/Spree.2020.1080p.TheMoviesflix.com.co.mkv\n",
      "https://store3.gofile.io/download/d8c2fa30-723a-4afe-a7ad-0c5297c3d3dd/The.Billionaire.2011.720p.NF.WEB-DL.x264.\n",
      "https://store3.gofile.io/download/470ab2cc-dfc7-42e9-a274-20e59d66e006/The.Billionaire.2011.480p.NF.WEB-DL.x264.\n",
      "https://store3.gofile.io/download/881031ea-7478-4669-be0d-a886d396438b/The.Billionaire.2011.1080p.NF.WEB-DL.x264.\n",
      "https://store3.gofile.io/download/097dc9e1-83f0-436f-83bb-9ac71608af8e/The.Meddler.2015.480p.BluRay.x264.TheMoviesflix.com.co.mkv\n",
      "https://store3.gofile.io/download/3948ee32-0868-451f-a9ab-4684291aa04f/The.Meddler.2015.720p.BluRay.x264.TheMoviesflix.com.co.mkv\n",
      "https://store3.gofile.io/download/f65350a9-99c1-41b4-820f-87e753ac9a25/Dont.Let.Her.In.2021.720p.WEBRip.HINDI.DUB.Themoviesflix.com.ph.mkv\n",
      "https://store3.gofile.io/download/4c6d91c1-a656-41ec-a942-801f220f6d3e/Titane.2021.480p.WEB-DL.x264.TheMoviesflix.com.co.mkv\n",
      "https://store3.gofile.io/download/894fa25e-6f44-43c6-9a61-7c5ba3debba7/Titane.2021.720p.WEB-DL.x264.TheMoviesflix.com.co.mkv\n",
      "https://store3.gofile.io/download/7f7db8d3-9a03-4306-9890-9565b6c498e6/Titane.2021.1080p.WEB-DL.x264.TheMoviesflix.com.co.mkv\n",
      "https://store3.gofile.io/download/1f36efea-bd87-474b-82a4-cc8791688c70/What.Love.Means.2005.480p.NF.WEB-DL.x264.TheMoviesflix.com.co.mkv\n",
      "https://store3.gofile.io/download/629ed4da-359c-431e-8b6a-5fca1d56184f/What.Love.Means.2005.720p.NF.WEB-DL.x264.TheMoviesflix.com.co.mkv\n",
      "https://store3.gofile.io/download/02c75dde-e81e-444a-b9ad-b915e04348fa/What.Love.Means.2005.1080p.NF.WEB-DL.x264.TheMoviesflix.com.co.mkv\n",
      "https://store4.gofile.io/download/edb57c24-b75f-4a39-a621-62825dbd949b/Titane.2021.1080p.WEB-DL.x264.DD5.1-Themoviesflix.com.co.mkv\n",
      "https://store4.gofile.io/download/1ff62754-9604-4863-889d-0b52b8e8a739/Titane.2021.720p.WEB-DL.x265.10Bit-Themoviesflix.com.co.mkv\n",
      "https://store4.gofile.io/download/7e2c9df7-b584-46af-9a87-48a18e75fec5/Titane.2021.720p.WEB-DL.x265.-Themoviesflix.com.co.mkv\n",
      "https://store4.gofile.io/download/91316948-7476-41a8-a2af-3438777153f3/Titane.2021.480p.WEB-DL.x265.-Themoviesflix.com.co.mkv\n",
      "https://store4.gofile.io/download/369ee6bd-f76a-4faf-b076-fca30ff9bccf/Theo.Von.Regular.People.2021.1080p.WEBRip.Eng.Themoviesflix.com.co.mkv\n",
      "https://store4.gofile.io/download/6ba75f02-38c4-4714-9b59-4bfd3365c3d2/Theo.Von.Regular.People.2021.720p.WEBRip.Eng.Themoviesflix.com.co.mkv\n",
      "https://store4.gofile.io/download/3f0918f6-d992-42c9-b53a-3fb8e001cfed/Dune.2021.1080p.English.Esubs.Themoviesflix.com.co.mkv\n",
      "https://store4.gofile.io/download/55fa1f38-0e35-4c21-864c-142c258fdbea/Dune.2021.720p.English.Esubs.Themoviesflix.com.co.mkv\n",
      "https://store4.gofile.io/download/b4279b3a-047f-4ec5-ad40-76008fbda44c/Dune.2021.480p.English.Esubs.Themoviesflix.com.co.mkv\n",
      "https://store4.gofile.io/download/064811ff-4383-4344-be41-e63f13e0fe90/Nancy.Drew.and.the.Hidden.Staircase.2019.480p.Themoviesflix.com.co.mkv\n",
      "https://store4.gofile.io/download/64e4ce47-c30f-4075-8cbe-8b07b63650e9/Stuck.Together.2021.1080p.WEBRip.English.Themoviesflix.com.co.mkv\n",
      "https://store4.gofile.io/download/b207c6c9-5e18-4385-a7c1-766dff63c89a/Stuck.Together.2021.720p.WEBRip.English.Themoviesflix.com.co.mkv\n",
      "https://store4.gofile.io/download/384afd10-4d15-4804-95c7-52441aa4d8b0/Stuck.Together.2021.480p.WEBRip.English.Themoviesflix.com.co.mkv\n",
      "https://store4.gofile.io/download/3a80e8bb-17b4-407a-8d15-289c0e153950/Found.2021.1080p.WEBRip.English.Themovisflix.com.co.mkv\n",
      "https://store4.gofile.io/download/9cff125d-ee5f-45e1-9899-e169ad8169a2/Found.2021.720p.WEBRip.English.Themovisflix.com.co.mkv\n",
      "https://store4.gofile.io/download/5201a598-46a8-4137-ad71-11e12277645d/Found.2021.480p.WEBRip.English.Themovisflix.com.co.mkv\n",
      "https://store4.gofile.io/download/69d1797c-d6e5-46ac-9feb-1fb7dd3568d8/Kingsman.The.Secret.Service.(2014).1080p.(Hindi.Eng).Themoviesflix.com.co.mkv\n",
      "https://store4.gofile.io/download/16fe4a4a-d0c7-49c3-9ec5-1482a32f0e19/Kingsman.The.Secret.Service.(2014).720p.(Hindi.Eng).Themoviesflix.com.co.mkv\n",
      "https://store4.gofile.io/download/bbfb4f2b-dd79-4c85-8511-bb1dd06e4f75/Kingsman.The.Secret.Service.(2014).480p.(Hindi.Eng).Themoviesflix.com.co.mkv\n",
      "https://store4.gofile.io/download/a4023dfe-b32c-4b4e-834c-2e614bb6a0cf/Kingsman.The.G0lden.Circle.(2017).1080p.Dual.Audio.(Hin.Eng).Themoviesflix.com.co.mkv\n",
      "https://store4.gofile.io/download/d6b1c91c-59e1-44ff-8afc-4c72b36c9929/Kingsman.The.G0lden.Circle.(2017).720p.Dual.Audio.(Hin.Eng).Themoviesflix.com.co.mkv\n",
      "https://store4.gofile.io/download/c58c53cf-42f9-4c58-8d91-f675840cace5/Kingsman.The.G0lden.Circle.(2017).480p.Dual.Audio.(Hin.Eng).Themoviesflix.com.co.mkv\n",
      "https://store2.gofile.io/download/ba65937a-8e51-48df-a067-973cb7471d1a/Interstellar.2014.1080p.BluRay.Hindi-English.x264.ESub-Themoviesflix.com.co.mkv\n",
      "https://store2.gofile.io/download/63271654-05af-4818-8852-4b533df08bdb/Interstellar.2014.720p.BluRay.Hindi-English.x264.ESub-Themoviesflix.com.co.mkv\n",
      "https://store2.gofile.io/download/d3c6958e-479f-48e2-80e7-1a8fe98f3b69/Interstellar.2014.480p.BluRay.Hindi-English.x264.ESub-Themoviesflix.com.co.mkv\n",
      "https://store4.gofile.io/download/00f42eb6-65bc-40f8-bee9-93b28d31cbe0/M@l!gn@nt.2021.480p.W3B-DL.H!nd!-3ngl!sh.5.1.x264.\n",
      "https://store4.gofile.io/download/40bbb101-2e65-4f0f-8a79-d628d3bfd0bb/M@l!gn@nt.2021.720p.W3B-DL.H!nd!-3ngl!sh.5.1.x264.\n",
      "https://store3.gofile.io/download/24d0add1-937d-4bac-9136-a72d66d95752/M@l!gn@nt.2021.720p.W3B-DL.H!nd!-3ngl!sh.5.1.x264.\n",
      "https://store4.gofile.io/download/3b9b86a2-3dc3-4ba8-8c4d-5c26537fc7eb/M@l!gn@nt.2021.1080p.W3B-DL.H!nd!-3ngl!sh.5.1.x264.\n",
      "https://store3.gofile.io/download/c85997d5-bc50-4a92-be1c-845781c926c6/Dune.2021.1080p.WEBRip.Hindi.Clean-English.ESub.x264-Themoviesflis.com.co.mkv\n",
      "https://store3.gofile.io/download/38e28799-107c-4d2e-8a26-1d6ae76a7b5b/Dune.2021.720pHECV.WEBRip.Hindi.Clean-English.ESub.x264-Themoviesflis.com.co.mkv\n",
      "https://store3.gofile.io/download/eab8d321-e7e1-43fa-a306-4258895a7bba/Dune.2021.720p.WEBRip.Hindi.Clean-English.ESub.x264-Themoviesflis.com.co.mkv\n",
      "https://store3.gofile.io/download/8d5ebcca-e442-42fc-8b2c-50b50ac6bd36/Dune.2021.480p.WEBRip.Hindi.Clean-English.ESub.x264-Themoviesflis.com.co.mkv\n",
      "https://store3.gofile.io/download/ee54d3ce-3cb6-4a95-96c0-6e9c6056a131/Life.of.Brian.1979.1080p.Themoviesflix.com.mkv\n",
      "https://store3.gofile.io/download/35b8033b-7237-4b3e-abfa-f29656b2d41d/Life.of.Brian.1979.720p.Themoviesflix.com.mkv\n"
     ]
    },
    {
     "name": "stdout",
     "output_type": "stream",
     "text": [
      "https://store3.gofile.io/download/10e8110a-984a-42f0-aa75-88c881a07e16/Life.of.Brian.1979.480p.Themoviesflix.com.mkv\n",
      "https://store3.gofile.io/download/0497ecd8-b656-4dae-bd3d-1d6ccc1e4612/2010.The.Year.We.Make.Contact.1984.720p.Themoviesflix.com.co.mkv\n",
      "https://store3.gofile.io/download/eba9bd92-f40a-4d94-97c8-c476f35fda28/2010.The.Year.We.Make.Contact.1984.480p.Themoviesflix.com.co.mkv\n",
      "https://store4.gofile.io/download/247d3f7c-0a36-4c50-b29b-ab4d382899f5/Fetih\n",
      "https://store4.gofile.io/download/82261e2a-939e-41ea-bfe5-f50d523ee026/Fetih\n",
      "https://store4.gofile.io/download/bf5a1f39-b948-4550-b142-eee16b962071/Fetih\n",
      "https://store3.gofile.io/download/9e5aa0a0-893d-4bf2-a707-90d727b330c2/Every.Last.One.Of.Them.2021.1080p.WEBRip.English.Themovieesflix.com.co.mkv\n",
      "https://store3.gofile.io/download/44962f7d-8819-4ca2-9af1-86d7e189d7fd/Every.Last.One.Of.Them.2021.720p.WEBRip.English.Themovieesflix.com.co.mkv\n",
      "https://store3.gofile.io/download/1c82f43e-acbd-47ac-bd66-e3e1fea68abc/Every.Last.One.Of.Them.2021.480p.WEBRip.English.Themovieesflix.com.co.mkv\n",
      "https://store3.gofile.io/download/a5307973-6212-4e1d-aa08-fc58f2dc1df1/Warning.2021.1080p.BRRip.English.Themoviesflix.com.co.mkv\n",
      "https://store3.gofile.io/download/6986c953-2a4c-426c-b681-6ca9efa0dce8/Warning.2021.720p.BRRip.English.Themoviesflix.com.co.mkv\n",
      "https://store3.gofile.io/download/73539029-161c-4bec-a6d8-cfce7a562b05/Warning.2021.480p.BRRip.English.Themoviesflix.com.co.mkv\n",
      "https://store3.gofile.io/download/6983d727-9032-40b9-80ee-37edd5ce5721/The\n",
      "https://store3.gofile.io/download/656474a9-842a-4f3b-b16b-37d7a9159c87/The\n",
      "https://store3.gofile.io/download/b9198436-5e1e-4f2d-bdb8-1eec29fe996d/Barb\n",
      "https://store3.gofile.io/download/8b729e0d-f360-43d2-8b21-4c4290c5ab36/Barb\n",
      "https://store4.gofile.io/download/8acca161-9567-44dc-8653-bbacb4154328/Sharkdogs.Fintastic.Halloween.2021.480p.NF.WEB-DL.DD+5.1.x264.\n",
      "https://store4.gofile.io/download/24459a7d-776c-4bcd-a1bb-bf47045a7ca1/Sharkdogs.Fintastic.Halloween.2021.720p.NF.WEB-DL.DD+5.1.x264.\n",
      "https://store4.gofile.io/download/0d1fbd8d-7e61-4dea-a2a2-473244fc8a2e/Sharkdogs.Fintastic.Halloween.2021.1080p.NF.WEB-DL.DD+5.1.x264.\n",
      "https://store4.gofile.io/download/8d798f1f-80b5-4b49-be64-607025317e90/Arahan\n",
      "https://store4.gofile.io/download/437e0fef-ac90-45a6-9a79-6365b3822774/Arahan\n",
      "https://store4.gofile.io/download/a00d9d2c-44e8-4b47-b9b4-6ba8b5c49f18/Arahan\n",
      "https://store4.gofile.io/download/2fe988c0-736a-407d-8a7c-ec458faa3938/Groupie\n",
      "https://store4.gofile.io/download/25d0e215-fd16-4ea0-add3-5a6b001aadc6/Groupie\n",
      "https://store4.gofile.io/download/a0db46f6-86e8-441d-bbbd-994fc1620435/Groupie\n",
      "https://gofile.io/d/q91Trd\n"
     ]
    }
   ],
   "source": [
    "import requests\n",
    "\n",
    "\n",
    "burp0_url = \"https://blogmflix.xyz:443/archives/3443\"\n",
    "burp0_headers = {\"User-Agent\": \"Mozilla/5.0 (Windows NT 10.0; Win64; x64; rv:100.0) Gecko/20100101 Firefox/100.0\", \"Accept\": \"text/html,application/xhtml+xml,application/xml;q=0.9,image/avif,image/webp,*/*;q=0.8\", \"Accept-Language\": \"en-US,en;q=0.5\", \"Accept-Encoding\": \"gzip, deflate\", \"Referer\": \"https://themoviesflix.org.mx/download-doctor-strange-2016-hindi-english-480p-720-1080p/\", \"Connection\": \"close\", \"Upgrade-Insecure-Requests\": \"1\", \"Sec-Fetch-Dest\": \"document\", \"Sec-Fetch-Mode\": \"navigate\", \"Sec-Fetch-Site\": \"cross-site\", \"Sec-Fetch-User\": \"?1\"}\n",
    "for index in range(0,1000):\n",
    "    burp0_url = f\"https://blogmflix.xyz:443/archives/{index}\"\n",
    "    r=requests.get(burp0_url, headers=burp0_headers)\n",
    "    for link in re.findall(regex,r.text):\n",
    "        if 'gofile' in link:\n",
    "            print(link)"
   ]
  },
  {
   "cell_type": "code",
   "execution_count": 35,
   "metadata": {},
   "outputs": [
    {
     "data": {
      "text/plain": [
       "['https://gmpg.org/xfn/11',\n",
       " '//fonts.googleapis.com',\n",
       " '//s.w.org',\n",
       " 'https://blogmflix.xyz/feed',\n",
       " 'https://blogmflix.xyz/comments/feed',\n",
       " 'https://blogmflix.xyz/archives/3443/feed',\n",
       " 'https://blogmflix.xyz/wp-includes/css/dist/block-library/style.min.css?ver=5.9.3',\n",
       " 'https://blogmflix.xyz/wp-content/themes/allium/css/bootstrap-custom.css?ver=5.9.3',\n",
       " 'https://blogmflix.xyz/wp-content/themes/allium/css/fontawesome-all.css?ver=5.9.3',\n",
       " 'https://fonts.googleapis.com/css?family=Nunito+Sans%3A400%2C400i%2C700%2C700i%7CRoboto%3A400%2C400i%2C700%2C700i&#038;subset=latin%2Clatin-ext',\n",
       " 'https://blogmflix.xyz/wp-content/themes/allium/style.css?ver=5.9.3',\n",
       " 'https://blogmflix.xyz/wp-content/plugins/timed-content/css/timed-content.css?ver=2.68',\n",
       " 'https://blogmflix.xyz/wp-json/',\n",
       " 'https://blogmflix.xyz/wp-json/wp/v2/posts/3443',\n",
       " 'https://blogmflix.xyz/xmlrpc.php?rsd',\n",
       " 'https://blogmflix.xyz/wp-includes/wlwmanifest.xml',\n",
       " 'https://blogmflix.xyz/archives/3443',\n",
       " 'https://blogmflix.xyz/?p=3443',\n",
       " 'https://blogmflix.xyz/wp-json/oembed/1.0/embed?url=https%3A%2F%2Fblogmflix.xyz%2Farchives%2F3443',\n",
       " 'https://blogmflix.xyz/wp-json/oembed/1.0/embed?url=https%3A%2F%2Fblogmflix.xyz%2Farchives%2F3443&#038;format=xml',\n",
       " 'https://blogmflix.xyz/xmlrpc.php',\n",
       " 'https://blogmflix.xyz/',\n",
       " '#content',\n",
       " '#header-menu-responsive',\n",
       " 'https://blogmflix.xyz/',\n",
       " 'https://blogmflix.xyz/archives',\n",
       " 'https://blogmflix.xyz/sample-page',\n",
       " 'https://blogmflix.xyz/archives/author/blogmflixadmin',\n",
       " 'https://blogmflix.xyz/archives/3443',\n",
       " 'https://t.me/+GUmZsIeCBFExZjVl',\n",
       " 'https://new.gdtot.top/file/1181370367',\n",
       " 'https://veryfastdownload.pw/v2/watch2.php?link=UEF5TnFnc2lrdTU0a1VNNVpiVVkzZz09',\n",
       " 'https://dropgalaxy.in/d9lo40hu3ixq',\n",
       " 'https://files.im/ck9s337bggga',\n",
       " 'https://store3.gofile.io/download/2453fcd6-0e9c-4b3e-94a8-770e5110913c/Doctor.Strange.2016.720p.Hindi.English.TheMoviesflix.com.ph.mkv',\n",
       " 'https://dood.ws/d/p4ie49strqcu',\n",
       " 'https://mflixurl.club/gets/v4STle83WC',\n",
       " 'https://blogmflix.xyz/archives/author/blogmflixadmin',\n",
       " 'https://blogmflix.xyz/archives/2796',\n",
       " 'https://blogmflix.xyz/archives/3634',\n",
       " '/archives/3443#respond',\n",
       " 'https://templatelens.com',\n",
       " 'https://wordpress.org']"
      ]
     },
     "execution_count": 35,
     "metadata": {},
     "output_type": "execute_result"
    }
   ],
   "source": []
  },
  {
   "cell_type": "code",
   "execution_count": null,
   "metadata": {},
   "outputs": [],
   "source": []
  },
  {
   "cell_type": "code",
   "execution_count": null,
   "metadata": {},
   "outputs": [],
   "source": []
  }
 ],
 "metadata": {
  "kernelspec": {
   "display_name": "Python 3 (ipykernel)",
   "language": "python",
   "name": "python3"
  },
  "language_info": {
   "codemirror_mode": {
    "name": "ipython",
    "version": 3
   },
   "file_extension": ".py",
   "mimetype": "text/x-python",
   "name": "python",
   "nbconvert_exporter": "python",
   "pygments_lexer": "ipython3",
   "version": "3.7.3"
  }
 },
 "nbformat": 4,
 "nbformat_minor": 2
}
